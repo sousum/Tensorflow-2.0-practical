{
  "nbformat": 4,
  "nbformat_minor": 0,
  "metadata": {
    "colab": {
      "name": "1. Develop A Single Neuron Model to Convert C to F.ipynb",
      "provenance": [],
      "collapsed_sections": [],
      "toc_visible": true
    },
    "kernelspec": {
      "name": "python3",
      "display_name": "Python 3"
    },
    "accelerator": "GPU"
  },
  "cells": [
    {
      "cell_type": "markdown",
      "metadata": {
        "id": "M27qF7CTrBqc"
      },
      "source": [
        "# PROBLEM STATEMENT"
      ]
    },
    {
      "cell_type": "markdown",
      "metadata": {
        "id": "iCj2rwwHBB1I"
      },
      "source": [
        "\n",
        "- In this project, we will build a simple machine learning model to convert from celsius to fahrenheit. \n",
        "- The equation is as follows: **T(°F) = T(°C) × 9/5 + 32**\n",
        "- For Example, let's convert 0°C celsius temperature to Fahrenheit:  **(0°C × 9/5) + 32 = 32°F**\n"
      ]
    },
    {
      "cell_type": "markdown",
      "metadata": {
        "id": "Z2ZMlH-gtOxf"
      },
      "source": [
        "\n",
        "<table>\n",
        "  <tr><td>\n",
        "    <img src=\"https://upload.wikimedia.org/wikipedia/commons/7/70/Thermometer_CF.svg\"\n",
        "         alt=\"Fashion MNIST sprite\"  width=\"600\">\n",
        "  </td></tr>\n",
        "  <tr><td align=\"center\">\n",
        "    <b>Figure 1. Convert Celsius to Fahrenheit [Image Source: https://commons.wikimedia.org/wiki/File:Thermometer_CF.svg]\n",
        "  </td></tr>\n",
        "</table>\n"
      ]
    },
    {
      "cell_type": "markdown",
      "metadata": {
        "id": "zKmFmyaGunc7"
      },
      "source": [
        "# STEP #0: IMPORT LIBRARIES"
      ]
    },
    {
      "cell_type": "code",
      "metadata": {
        "id": "S0Cx3743urFY"
      },
      "source": [
        "import tensorflow as tf\n",
        "import pandas as pd\n",
        "import numpy as np\n",
        "import seaborn as sns\n",
        "import matplotlib.pyplot as plt"
      ],
      "execution_count": 2,
      "outputs": []
    },
    {
      "cell_type": "code",
      "metadata": {
        "id": "4qIXbksCbWaI",
        "outputId": "989a75bf-2873-43e1-d606-049e17192758",
        "colab": {
          "base_uri": "https://localhost:8080/"
        }
      },
      "source": [
        "!pip show tensorflow-gpu"
      ],
      "execution_count": 3,
      "outputs": [
        {
          "output_type": "stream",
          "text": [
            "Name: tensorflow-gpu\n",
            "Version: 2.0.0b1\n",
            "Summary: TensorFlow is an open source machine learning framework for everyone.\n",
            "Home-page: https://www.tensorflow.org/\n",
            "Author: Google Inc.\n",
            "Author-email: packages@tensorflow.org\n",
            "License: Apache 2.0\n",
            "Location: /usr/local/lib/python3.6/dist-packages\n",
            "Requires: six, tf-estimator-nightly, gast, numpy, protobuf, absl-py, tb-nightly, keras-preprocessing, astor, google-pasta, wrapt, grpcio, wheel, termcolor, keras-applications\n",
            "Required-by: \n"
          ],
          "name": "stdout"
        }
      ]
    },
    {
      "cell_type": "markdown",
      "metadata": {
        "id": "uAE6Icc0uylP"
      },
      "source": [
        "# STEP #1: IMPORT DATASETS"
      ]
    },
    {
      "cell_type": "code",
      "metadata": {
        "id": "5P_ciLXawMZg",
        "colab": {
          "base_uri": "https://localhost:8080/"
        },
        "outputId": "8858b236-8fc5-4ebf-aac2-060eb78153ac"
      },
      "source": [
        "# You will need to mount your drive using the following commands:\n",
        "# For more information regarding mounting, please check this out: https://stackoverflow.com/questions/46986398/import-data-into-google-colaboratory\n",
        "\n",
        "from google.colab import drive\n",
        "drive.mount('/content/drive')"
      ],
      "execution_count": 4,
      "outputs": [
        {
          "output_type": "stream",
          "text": [
            "Drive already mounted at /content/drive; to attempt to forcibly remount, call drive.mount(\"/content/drive\", force_remount=True).\n"
          ],
          "name": "stdout"
        }
      ]
    },
    {
      "cell_type": "code",
      "metadata": {
        "id": "tjIiJdM4u1IE"
      },
      "source": [
        "# You have to include the full link to the csv file containing your dataset\n",
        "Temperature_df = pd.read_csv('/content/drive/My Drive/Colab Notebooks/Celsius to Fahrenheit.csv')\n",
        "Temperature_df.reset_index(drop=True, inplace=True)\n",
        "\n"
      ],
      "execution_count": 5,
      "outputs": []
    },
    {
      "cell_type": "code",
      "metadata": {
        "id": "q4_wPDKCu5Uc",
        "colab": {
          "base_uri": "https://localhost:8080/",
          "height": 935
        },
        "outputId": "24abd679-9be8-4868-d813-800a69a55959"
      },
      "source": [
        "Temperature_df"
      ],
      "execution_count": 6,
      "outputs": [
        {
          "output_type": "execute_result",
          "data": {
            "text/html": [
              "<div>\n",
              "<style scoped>\n",
              "    .dataframe tbody tr th:only-of-type {\n",
              "        vertical-align: middle;\n",
              "    }\n",
              "\n",
              "    .dataframe tbody tr th {\n",
              "        vertical-align: top;\n",
              "    }\n",
              "\n",
              "    .dataframe thead th {\n",
              "        text-align: right;\n",
              "    }\n",
              "</style>\n",
              "<table border=\"1\" class=\"dataframe\">\n",
              "  <thead>\n",
              "    <tr style=\"text-align: right;\">\n",
              "      <th></th>\n",
              "      <th>Celsius</th>\n",
              "      <th>Fahrenheit</th>\n",
              "    </tr>\n",
              "  </thead>\n",
              "  <tbody>\n",
              "    <tr>\n",
              "      <th>0</th>\n",
              "      <td>-50</td>\n",
              "      <td>-58.0</td>\n",
              "    </tr>\n",
              "    <tr>\n",
              "      <th>1</th>\n",
              "      <td>-40</td>\n",
              "      <td>-40.0</td>\n",
              "    </tr>\n",
              "    <tr>\n",
              "      <th>2</th>\n",
              "      <td>-30</td>\n",
              "      <td>-22.0</td>\n",
              "    </tr>\n",
              "    <tr>\n",
              "      <th>3</th>\n",
              "      <td>-20</td>\n",
              "      <td>-4.0</td>\n",
              "    </tr>\n",
              "    <tr>\n",
              "      <th>4</th>\n",
              "      <td>-10</td>\n",
              "      <td>14.0</td>\n",
              "    </tr>\n",
              "    <tr>\n",
              "      <th>5</th>\n",
              "      <td>-9</td>\n",
              "      <td>15.8</td>\n",
              "    </tr>\n",
              "    <tr>\n",
              "      <th>6</th>\n",
              "      <td>-8</td>\n",
              "      <td>17.6</td>\n",
              "    </tr>\n",
              "    <tr>\n",
              "      <th>7</th>\n",
              "      <td>-7</td>\n",
              "      <td>19.4</td>\n",
              "    </tr>\n",
              "    <tr>\n",
              "      <th>8</th>\n",
              "      <td>-6</td>\n",
              "      <td>21.2</td>\n",
              "    </tr>\n",
              "    <tr>\n",
              "      <th>9</th>\n",
              "      <td>-5</td>\n",
              "      <td>23.0</td>\n",
              "    </tr>\n",
              "    <tr>\n",
              "      <th>10</th>\n",
              "      <td>-4</td>\n",
              "      <td>24.8</td>\n",
              "    </tr>\n",
              "    <tr>\n",
              "      <th>11</th>\n",
              "      <td>-3</td>\n",
              "      <td>26.6</td>\n",
              "    </tr>\n",
              "    <tr>\n",
              "      <th>12</th>\n",
              "      <td>-2</td>\n",
              "      <td>28.4</td>\n",
              "    </tr>\n",
              "    <tr>\n",
              "      <th>13</th>\n",
              "      <td>-1</td>\n",
              "      <td>30.2</td>\n",
              "    </tr>\n",
              "    <tr>\n",
              "      <th>14</th>\n",
              "      <td>0</td>\n",
              "      <td>32.0</td>\n",
              "    </tr>\n",
              "    <tr>\n",
              "      <th>15</th>\n",
              "      <td>1</td>\n",
              "      <td>33.8</td>\n",
              "    </tr>\n",
              "    <tr>\n",
              "      <th>16</th>\n",
              "      <td>2</td>\n",
              "      <td>35.6</td>\n",
              "    </tr>\n",
              "    <tr>\n",
              "      <th>17</th>\n",
              "      <td>3</td>\n",
              "      <td>37.4</td>\n",
              "    </tr>\n",
              "    <tr>\n",
              "      <th>18</th>\n",
              "      <td>4</td>\n",
              "      <td>39.2</td>\n",
              "    </tr>\n",
              "    <tr>\n",
              "      <th>19</th>\n",
              "      <td>5</td>\n",
              "      <td>41.0</td>\n",
              "    </tr>\n",
              "    <tr>\n",
              "      <th>20</th>\n",
              "      <td>6</td>\n",
              "      <td>42.8</td>\n",
              "    </tr>\n",
              "    <tr>\n",
              "      <th>21</th>\n",
              "      <td>7</td>\n",
              "      <td>44.6</td>\n",
              "    </tr>\n",
              "    <tr>\n",
              "      <th>22</th>\n",
              "      <td>8</td>\n",
              "      <td>46.4</td>\n",
              "    </tr>\n",
              "    <tr>\n",
              "      <th>23</th>\n",
              "      <td>9</td>\n",
              "      <td>48.2</td>\n",
              "    </tr>\n",
              "    <tr>\n",
              "      <th>24</th>\n",
              "      <td>10</td>\n",
              "      <td>50.0</td>\n",
              "    </tr>\n",
              "    <tr>\n",
              "      <th>25</th>\n",
              "      <td>20</td>\n",
              "      <td>68.0</td>\n",
              "    </tr>\n",
              "    <tr>\n",
              "      <th>26</th>\n",
              "      <td>30</td>\n",
              "      <td>86.0</td>\n",
              "    </tr>\n",
              "    <tr>\n",
              "      <th>27</th>\n",
              "      <td>40</td>\n",
              "      <td>104.0</td>\n",
              "    </tr>\n",
              "    <tr>\n",
              "      <th>28</th>\n",
              "      <td>50</td>\n",
              "      <td>122.0</td>\n",
              "    </tr>\n",
              "    <tr>\n",
              "      <th>29</th>\n",
              "      <td>60</td>\n",
              "      <td>140.0</td>\n",
              "    </tr>\n",
              "  </tbody>\n",
              "</table>\n",
              "</div>"
            ],
            "text/plain": [
              "    Celsius  Fahrenheit\n",
              "0       -50       -58.0\n",
              "1       -40       -40.0\n",
              "2       -30       -22.0\n",
              "3       -20        -4.0\n",
              "4       -10        14.0\n",
              "5        -9        15.8\n",
              "6        -8        17.6\n",
              "7        -7        19.4\n",
              "8        -6        21.2\n",
              "9        -5        23.0\n",
              "10       -4        24.8\n",
              "11       -3        26.6\n",
              "12       -2        28.4\n",
              "13       -1        30.2\n",
              "14        0        32.0\n",
              "15        1        33.8\n",
              "16        2        35.6\n",
              "17        3        37.4\n",
              "18        4        39.2\n",
              "19        5        41.0\n",
              "20        6        42.8\n",
              "21        7        44.6\n",
              "22        8        46.4\n",
              "23        9        48.2\n",
              "24       10        50.0\n",
              "25       20        68.0\n",
              "26       30        86.0\n",
              "27       40       104.0\n",
              "28       50       122.0\n",
              "29       60       140.0"
            ]
          },
          "metadata": {
            "tags": []
          },
          "execution_count": 6
        }
      ]
    },
    {
      "cell_type": "code",
      "metadata": {
        "id": "E7puy9-xxS4A",
        "colab": {
          "base_uri": "https://localhost:8080/",
          "height": 195
        },
        "outputId": "8e654160-29b3-4c28-c2fa-5906c2b8c32b"
      },
      "source": [
        "Temperature_df.head(5)"
      ],
      "execution_count": 7,
      "outputs": [
        {
          "output_type": "execute_result",
          "data": {
            "text/html": [
              "<div>\n",
              "<style scoped>\n",
              "    .dataframe tbody tr th:only-of-type {\n",
              "        vertical-align: middle;\n",
              "    }\n",
              "\n",
              "    .dataframe tbody tr th {\n",
              "        vertical-align: top;\n",
              "    }\n",
              "\n",
              "    .dataframe thead th {\n",
              "        text-align: right;\n",
              "    }\n",
              "</style>\n",
              "<table border=\"1\" class=\"dataframe\">\n",
              "  <thead>\n",
              "    <tr style=\"text-align: right;\">\n",
              "      <th></th>\n",
              "      <th>Celsius</th>\n",
              "      <th>Fahrenheit</th>\n",
              "    </tr>\n",
              "  </thead>\n",
              "  <tbody>\n",
              "    <tr>\n",
              "      <th>0</th>\n",
              "      <td>-50</td>\n",
              "      <td>-58.0</td>\n",
              "    </tr>\n",
              "    <tr>\n",
              "      <th>1</th>\n",
              "      <td>-40</td>\n",
              "      <td>-40.0</td>\n",
              "    </tr>\n",
              "    <tr>\n",
              "      <th>2</th>\n",
              "      <td>-30</td>\n",
              "      <td>-22.0</td>\n",
              "    </tr>\n",
              "    <tr>\n",
              "      <th>3</th>\n",
              "      <td>-20</td>\n",
              "      <td>-4.0</td>\n",
              "    </tr>\n",
              "    <tr>\n",
              "      <th>4</th>\n",
              "      <td>-10</td>\n",
              "      <td>14.0</td>\n",
              "    </tr>\n",
              "  </tbody>\n",
              "</table>\n",
              "</div>"
            ],
            "text/plain": [
              "   Celsius  Fahrenheit\n",
              "0      -50       -58.0\n",
              "1      -40       -40.0\n",
              "2      -30       -22.0\n",
              "3      -20        -4.0\n",
              "4      -10        14.0"
            ]
          },
          "metadata": {
            "tags": []
          },
          "execution_count": 7
        }
      ]
    },
    {
      "cell_type": "code",
      "metadata": {
        "id": "RUt2ON_UxyYk",
        "colab": {
          "base_uri": "https://localhost:8080/",
          "height": 343
        },
        "outputId": "8afa1805-7919-4ff0-b4ac-0c4d74ccd803"
      },
      "source": [
        "Temperature_df.tail(10)"
      ],
      "execution_count": 8,
      "outputs": [
        {
          "output_type": "execute_result",
          "data": {
            "text/html": [
              "<div>\n",
              "<style scoped>\n",
              "    .dataframe tbody tr th:only-of-type {\n",
              "        vertical-align: middle;\n",
              "    }\n",
              "\n",
              "    .dataframe tbody tr th {\n",
              "        vertical-align: top;\n",
              "    }\n",
              "\n",
              "    .dataframe thead th {\n",
              "        text-align: right;\n",
              "    }\n",
              "</style>\n",
              "<table border=\"1\" class=\"dataframe\">\n",
              "  <thead>\n",
              "    <tr style=\"text-align: right;\">\n",
              "      <th></th>\n",
              "      <th>Celsius</th>\n",
              "      <th>Fahrenheit</th>\n",
              "    </tr>\n",
              "  </thead>\n",
              "  <tbody>\n",
              "    <tr>\n",
              "      <th>20</th>\n",
              "      <td>6</td>\n",
              "      <td>42.8</td>\n",
              "    </tr>\n",
              "    <tr>\n",
              "      <th>21</th>\n",
              "      <td>7</td>\n",
              "      <td>44.6</td>\n",
              "    </tr>\n",
              "    <tr>\n",
              "      <th>22</th>\n",
              "      <td>8</td>\n",
              "      <td>46.4</td>\n",
              "    </tr>\n",
              "    <tr>\n",
              "      <th>23</th>\n",
              "      <td>9</td>\n",
              "      <td>48.2</td>\n",
              "    </tr>\n",
              "    <tr>\n",
              "      <th>24</th>\n",
              "      <td>10</td>\n",
              "      <td>50.0</td>\n",
              "    </tr>\n",
              "    <tr>\n",
              "      <th>25</th>\n",
              "      <td>20</td>\n",
              "      <td>68.0</td>\n",
              "    </tr>\n",
              "    <tr>\n",
              "      <th>26</th>\n",
              "      <td>30</td>\n",
              "      <td>86.0</td>\n",
              "    </tr>\n",
              "    <tr>\n",
              "      <th>27</th>\n",
              "      <td>40</td>\n",
              "      <td>104.0</td>\n",
              "    </tr>\n",
              "    <tr>\n",
              "      <th>28</th>\n",
              "      <td>50</td>\n",
              "      <td>122.0</td>\n",
              "    </tr>\n",
              "    <tr>\n",
              "      <th>29</th>\n",
              "      <td>60</td>\n",
              "      <td>140.0</td>\n",
              "    </tr>\n",
              "  </tbody>\n",
              "</table>\n",
              "</div>"
            ],
            "text/plain": [
              "    Celsius  Fahrenheit\n",
              "20        6        42.8\n",
              "21        7        44.6\n",
              "22        8        46.4\n",
              "23        9        48.2\n",
              "24       10        50.0\n",
              "25       20        68.0\n",
              "26       30        86.0\n",
              "27       40       104.0\n",
              "28       50       122.0\n",
              "29       60       140.0"
            ]
          },
          "metadata": {
            "tags": []
          },
          "execution_count": 8
        }
      ]
    },
    {
      "cell_type": "code",
      "metadata": {
        "id": "hMq3-KWOx0e1",
        "colab": {
          "base_uri": "https://localhost:8080/"
        },
        "outputId": "d202ea3c-596f-4a8f-8f52-5d8886598399"
      },
      "source": [
        "Temperature_df.info()"
      ],
      "execution_count": 9,
      "outputs": [
        {
          "output_type": "stream",
          "text": [
            "<class 'pandas.core.frame.DataFrame'>\n",
            "RangeIndex: 30 entries, 0 to 29\n",
            "Data columns (total 2 columns):\n",
            " #   Column      Non-Null Count  Dtype  \n",
            "---  ------      --------------  -----  \n",
            " 0   Celsius     30 non-null     int64  \n",
            " 1   Fahrenheit  30 non-null     float64\n",
            "dtypes: float64(1), int64(1)\n",
            "memory usage: 608.0 bytes\n"
          ],
          "name": "stdout"
        }
      ]
    },
    {
      "cell_type": "code",
      "metadata": {
        "id": "s0E9xPLdx2Ok",
        "colab": {
          "base_uri": "https://localhost:8080/",
          "height": 284
        },
        "outputId": "9d6a2c82-b711-40a9-ec29-1b0055443ab7"
      },
      "source": [
        "Temperature_df.describe()"
      ],
      "execution_count": 10,
      "outputs": [
        {
          "output_type": "execute_result",
          "data": {
            "text/html": [
              "<div>\n",
              "<style scoped>\n",
              "    .dataframe tbody tr th:only-of-type {\n",
              "        vertical-align: middle;\n",
              "    }\n",
              "\n",
              "    .dataframe tbody tr th {\n",
              "        vertical-align: top;\n",
              "    }\n",
              "\n",
              "    .dataframe thead th {\n",
              "        text-align: right;\n",
              "    }\n",
              "</style>\n",
              "<table border=\"1\" class=\"dataframe\">\n",
              "  <thead>\n",
              "    <tr style=\"text-align: right;\">\n",
              "      <th></th>\n",
              "      <th>Celsius</th>\n",
              "      <th>Fahrenheit</th>\n",
              "    </tr>\n",
              "  </thead>\n",
              "  <tbody>\n",
              "    <tr>\n",
              "      <th>count</th>\n",
              "      <td>30.000000</td>\n",
              "      <td>30.000000</td>\n",
              "    </tr>\n",
              "    <tr>\n",
              "      <th>mean</th>\n",
              "      <td>2.000000</td>\n",
              "      <td>35.600000</td>\n",
              "    </tr>\n",
              "    <tr>\n",
              "      <th>std</th>\n",
              "      <td>22.780815</td>\n",
              "      <td>41.005466</td>\n",
              "    </tr>\n",
              "    <tr>\n",
              "      <th>min</th>\n",
              "      <td>-50.000000</td>\n",
              "      <td>-58.000000</td>\n",
              "    </tr>\n",
              "    <tr>\n",
              "      <th>25%</th>\n",
              "      <td>-6.750000</td>\n",
              "      <td>19.850000</td>\n",
              "    </tr>\n",
              "    <tr>\n",
              "      <th>50%</th>\n",
              "      <td>0.500000</td>\n",
              "      <td>32.900000</td>\n",
              "    </tr>\n",
              "    <tr>\n",
              "      <th>75%</th>\n",
              "      <td>7.750000</td>\n",
              "      <td>45.950000</td>\n",
              "    </tr>\n",
              "    <tr>\n",
              "      <th>max</th>\n",
              "      <td>60.000000</td>\n",
              "      <td>140.000000</td>\n",
              "    </tr>\n",
              "  </tbody>\n",
              "</table>\n",
              "</div>"
            ],
            "text/plain": [
              "         Celsius  Fahrenheit\n",
              "count  30.000000   30.000000\n",
              "mean    2.000000   35.600000\n",
              "std    22.780815   41.005466\n",
              "min   -50.000000  -58.000000\n",
              "25%    -6.750000   19.850000\n",
              "50%     0.500000   32.900000\n",
              "75%     7.750000   45.950000\n",
              "max    60.000000  140.000000"
            ]
          },
          "metadata": {
            "tags": []
          },
          "execution_count": 10
        }
      ]
    },
    {
      "cell_type": "markdown",
      "metadata": {
        "id": "LlszUhNNyrl_"
      },
      "source": [
        "# STEP #2: VISUALIZE DATASET"
      ]
    },
    {
      "cell_type": "code",
      "metadata": {
        "id": "TYcWopZVyvAs",
        "colab": {
          "base_uri": "https://localhost:8080/",
          "height": 350
        },
        "outputId": "f0c4902b-6c05-4bb8-f484-58c24a36e85e"
      },
      "source": [
        "sns.scatterplot(Temperature_df['Celsius'], Temperature_df['Fahrenheit'])"
      ],
      "execution_count": 11,
      "outputs": [
        {
          "output_type": "stream",
          "text": [
            "/usr/local/lib/python3.6/dist-packages/seaborn/_decorators.py:43: FutureWarning: Pass the following variables as keyword args: x, y. From version 0.12, the only valid positional argument will be `data`, and passing other arguments without an explicit keyword will result in an error or misinterpretation.\n",
            "  FutureWarning\n"
          ],
          "name": "stderr"
        },
        {
          "output_type": "execute_result",
          "data": {
            "text/plain": [
              "<matplotlib.axes._subplots.AxesSubplot at 0x7f32d68d44a8>"
            ]
          },
          "metadata": {
            "tags": []
          },
          "execution_count": 11
        },
        {
          "output_type": "display_data",
          "data": {
            "image/png": "[encoded data removed]",
            "text/plain": [
              "<Figure size 432x288 with 1 Axes>"
            ]
          },
          "metadata": {
            "tags": [],
            "needs_background": "light"
          }
        }
      ]
    },
    {
      "cell_type": "markdown",
      "metadata": {
        "id": "Y0GmpAjG3GiH"
      },
      "source": [
        "# STEP #3: CREATE TESTING AND TRAINING DATASET"
      ]
    },
    {
      "cell_type": "code",
      "metadata": {
        "id": "0-maV8hb9rYM"
      },
      "source": [
        "X_train = Temperature_df['Celsius']\n",
        "y_train = Temperature_df['Fahrenheit']\n"
      ],
      "execution_count": 12,
      "outputs": []
    },
    {
      "cell_type": "markdown",
      "metadata": {
        "id": "53qDZFRn3-S1"
      },
      "source": [
        "# STEP#4: BUILD AND TRAIN THE MODEL"
      ]
    },
    {
      "cell_type": "code",
      "metadata": {
        "id": "DqIp8uvJ3cGi",
        "colab": {
          "base_uri": "https://localhost:8080/"
        },
        "outputId": "8ffbc66d-2806-4593-ea0d-9215a5cae21c"
      },
      "source": [
        "X_train.shape"
      ],
      "execution_count": 13,
      "outputs": [
        {
          "output_type": "execute_result",
          "data": {
            "text/plain": [
              "(30,)"
            ]
          },
          "metadata": {
            "tags": []
          },
          "execution_count": 13
        }
      ]
    },
    {
      "cell_type": "code",
      "metadata": {
        "id": "d4wfApza3cEc",
        "colab": {
          "base_uri": "https://localhost:8080/"
        },
        "outputId": "ee34f8ed-17e3-442d-a063-c30771f5fa71"
      },
      "source": [
        "y_train.shape"
      ],
      "execution_count": 14,
      "outputs": [
        {
          "output_type": "execute_result",
          "data": {
            "text/plain": [
              "(30,)"
            ]
          },
          "metadata": {
            "tags": []
          },
          "execution_count": 14
        }
      ]
    },
    {
      "cell_type": "code",
      "metadata": {
        "id": "Yl6fmPJj3cCX"
      },
      "source": [
        "model = tf.keras.Sequential()\n",
        "model.add(tf.keras.layers.Dense(units=1, input_shape=[1]))\n",
        "\n"
      ],
      "execution_count": 15,
      "outputs": []
    },
    {
      "cell_type": "code",
      "metadata": {
        "id": "GUd71odB4v-i",
        "colab": {
          "base_uri": "https://localhost:8080/"
        },
        "outputId": "25b4b170-082a-40b4-bad7-e32535807b49"
      },
      "source": [
        "model.summary()"
      ],
      "execution_count": 16,
      "outputs": [
        {
          "output_type": "stream",
          "text": [
            "Model: \"sequential\"\n",
            "_________________________________________________________________\n",
            "Layer (type)                 Output Shape              Param #   \n",
            "=================================================================\n",
            "dense (Dense)                (None, 1)                 2         \n",
            "=================================================================\n",
            "Total params: 2\n",
            "Trainable params: 2\n",
            "Non-trainable params: 0\n",
            "_________________________________________________________________\n"
          ],
          "name": "stdout"
        }
      ]
    },
    {
      "cell_type": "code",
      "metadata": {
        "id": "BYmvNpNw5Act"
      },
      "source": [
        "model.compile(optimizer=tf.keras.optimizers.Adam(0.5), loss='mean_squared_error')"
      ],
      "execution_count": 17,
      "outputs": []
    },
    {
      "cell_type": "code",
      "metadata": {
        "id": "tpia0VBS5Ljw",
        "colab": {
          "base_uri": "https://localhost:8080/"
        },
        "outputId": "5439e25b-63fd-4729-d045-56e472dc6f6e"
      },
      "source": [
        "epochs_hist = model.fit(X_train, y_train, epochs = 100)"
      ],
      "execution_count": 18,
      "outputs": [
        {
          "output_type": "stream",
          "text": [
            "Train on 30 samples\n",
            "Epoch 1/100\n",
            "30/30 [==============================] - 0s 8ms/sample - loss: 3085.6755\n",
            "Epoch 2/100\n",
            "30/30 [==============================] - 0s 78us/sample - loss: 2154.4822\n",
            "Epoch 3/100\n",
            "30/30 [==============================] - 0s 100us/sample - loss: 1487.5905\n",
            "Epoch 4/100\n",
            "30/30 [==============================] - 0s 67us/sample - loss: 1078.0427\n",
            "Epoch 5/100\n",
            "30/30 [==============================] - 0s 70us/sample - loss: 899.9056\n",
            "Epoch 6/100\n",
            "30/30 [==============================] - 0s 63us/sample - loss: 900.1497\n",
            "Epoch 7/100\n",
            "30/30 [==============================] - 0s 88us/sample - loss: 999.9758\n",
            "Epoch 8/100\n",
            "30/30 [==============================] - 0s 93us/sample - loss: 1114.7195\n",
            "Epoch 9/100\n",
            "30/30 [==============================] - 0s 71us/sample - loss: 1182.6602\n",
            "Epoch 10/100\n",
            "30/30 [==============================] - 0s 66us/sample - loss: 1179.2312\n",
            "Epoch 11/100\n",
            "30/30 [==============================] - 0s 88us/sample - loss: 1110.6287\n",
            "Epoch 12/100\n",
            "30/30 [==============================] - 0s 99us/sample - loss: 999.5246\n",
            "Epoch 13/100\n",
            "30/30 [==============================] - 0s 71us/sample - loss: 873.1542\n",
            "Epoch 14/100\n",
            "30/30 [==============================] - 0s 79us/sample - loss: 755.8905\n",
            "Epoch 15/100\n",
            "30/30 [==============================] - 0s 70us/sample - loss: 665.1085\n",
            "Epoch 16/100\n",
            "30/30 [==============================] - 0s 69us/sample - loss: 609.1533\n",
            "Epoch 17/100\n",
            "30/30 [==============================] - 0s 66us/sample - loss: 587.0208\n",
            "Epoch 18/100\n",
            "30/30 [==============================] - 0s 124us/sample - loss: 589.8408\n",
            "Epoch 19/100\n",
            "30/30 [==============================] - 0s 113us/sample - loss: 604.1031\n",
            "Epoch 20/100\n",
            "30/30 [==============================] - 0s 106us/sample - loss: 615.8949\n",
            "Epoch 21/100\n",
            "30/30 [==============================] - 0s 109us/sample - loss: 614.7855\n",
            "Epoch 22/100\n",
            "30/30 [==============================] - 0s 60us/sample - loss: 596.0840\n",
            "Epoch 23/100\n",
            "30/30 [==============================] - 0s 185us/sample - loss: 561.0109\n",
            "Epoch 24/100\n",
            "30/30 [==============================] - 0s 78us/sample - loss: 515.2090\n",
            "Epoch 25/100\n",
            "30/30 [==============================] - 0s 144us/sample - loss: 466.4232\n",
            "Epoch 26/100\n",
            "30/30 [==============================] - 0s 67us/sample - loss: 422.1282\n",
            "Epoch 27/100\n",
            "30/30 [==============================] - 0s 117us/sample - loss: 387.6425\n",
            "Epoch 28/100\n",
            "30/30 [==============================] - 0s 125us/sample - loss: 365.0529\n",
            "Epoch 29/100\n",
            "30/30 [==============================] - 0s 163us/sample - loss: 353.0986\n",
            "Epoch 30/100\n",
            "30/30 [==============================] - 0s 116us/sample - loss: 347.9643\n",
            "Epoch 31/100\n",
            "30/30 [==============================] - 0s 89us/sample - loss: 344.7065\n",
            "Epoch 32/100\n",
            "30/30 [==============================] - 0s 63us/sample - loss: 338.8431\n",
            "Epoch 33/100\n",
            "30/30 [==============================] - 0s 67us/sample - loss: 327.5954\n",
            "Epoch 34/100\n",
            "30/30 [==============================] - 0s 178us/sample - loss: 310.4380\n",
            "Epoch 35/100\n",
            "30/30 [==============================] - 0s 129us/sample - loss: 288.8885\n",
            "Epoch 36/100\n",
            "30/30 [==============================] - 0s 88us/sample - loss: 265.7232\n",
            "Epoch 37/100\n",
            "30/30 [==============================] - 0s 127us/sample - loss: 243.9460\n",
            "Epoch 38/100\n",
            "30/30 [==============================] - 0s 115us/sample - loss: 225.8456\n",
            "Epoch 39/100\n",
            "30/30 [==============================] - 0s 96us/sample - loss: 212.4019\n",
            "Epoch 40/100\n",
            "30/30 [==============================] - 0s 89us/sample - loss: 203.1683\n",
            "Epoch 41/100\n",
            "30/30 [==============================] - 0s 77us/sample - loss: 196.6130\n",
            "Epoch 42/100\n",
            "30/30 [==============================] - 0s 96us/sample - loss: 190.7595\n",
            "Epoch 43/100\n",
            "30/30 [==============================] - 0s 111us/sample - loss: 183.8854\n",
            "Epoch 44/100\n",
            "30/30 [==============================] - 0s 55us/sample - loss: 175.0403\n",
            "Epoch 45/100\n",
            "30/30 [==============================] - 0s 58us/sample - loss: 164.2344\n",
            "Epoch 46/100\n",
            "30/30 [==============================] - 0s 198us/sample - loss: 152.2802\n",
            "Epoch 47/100\n",
            "30/30 [==============================] - 0s 96us/sample - loss: 140.3908\n",
            "Epoch 48/100\n",
            "30/30 [==============================] - 0s 114us/sample - loss: 129.7045\n",
            "Epoch 49/100\n",
            "30/30 [==============================] - 0s 203us/sample - loss: 120.9043\n",
            "Epoch 50/100\n",
            "30/30 [==============================] - 0s 144us/sample - loss: 114.0486\n",
            "Epoch 51/100\n",
            "30/30 [==============================] - 0s 132us/sample - loss: 108.6406\n",
            "Epoch 52/100\n",
            "30/30 [==============================] - 0s 117us/sample - loss: 103.8831\n",
            "Epoch 53/100\n",
            "30/30 [==============================] - 0s 144us/sample - loss: 99.0026\n",
            "Epoch 54/100\n",
            "30/30 [==============================] - 0s 130us/sample - loss: 93.5176\n",
            "Epoch 55/100\n",
            "30/30 [==============================] - 0s 143us/sample - loss: 87.3620\n",
            "Epoch 56/100\n",
            "30/30 [==============================] - 0s 142us/sample - loss: 80.8389\n",
            "Epoch 57/100\n",
            "30/30 [==============================] - 0s 72us/sample - loss: 74.4460\n",
            "Epoch 58/100\n",
            "30/30 [==============================] - 0s 127us/sample - loss: 68.6570\n",
            "Epoch 59/100\n",
            "30/30 [==============================] - 0s 218us/sample - loss: 63.7437\n",
            "Epoch 60/100\n",
            "30/30 [==============================] - 0s 147us/sample - loss: 59.7021\n",
            "Epoch 61/100\n",
            "30/30 [==============================] - 0s 124us/sample - loss: 56.2930\n",
            "Epoch 62/100\n",
            "30/30 [==============================] - 0s 72us/sample - loss: 53.1669\n",
            "Epoch 63/100\n",
            "30/30 [==============================] - 0s 91us/sample - loss: 50.0121\n",
            "Epoch 64/100\n",
            "30/30 [==============================] - 0s 50us/sample - loss: 46.6664\n",
            "Epoch 65/100\n",
            "30/30 [==============================] - 0s 105us/sample - loss: 43.1523\n",
            "Epoch 66/100\n",
            "30/30 [==============================] - 0s 54us/sample - loss: 39.6345\n",
            "Epoch 67/100\n",
            "30/30 [==============================] - 0s 66us/sample - loss: 36.3278\n",
            "Epoch 68/100\n",
            "30/30 [==============================] - 0s 77us/sample - loss: 33.3990\n",
            "Epoch 69/100\n",
            "30/30 [==============================] - 0s 110us/sample - loss: 30.9040\n",
            "Epoch 70/100\n",
            "30/30 [==============================] - 0s 92us/sample - loss: 28.7795\n",
            "Epoch 71/100\n",
            "30/30 [==============================] - 0s 97us/sample - loss: 26.8849\n",
            "Epoch 72/100\n",
            "30/30 [==============================] - 0s 211us/sample - loss: 25.0698\n",
            "Epoch 73/100\n",
            "30/30 [==============================] - 0s 109us/sample - loss: 23.2348\n",
            "Epoch 74/100\n",
            "30/30 [==============================] - 0s 105us/sample - loss: 21.3617\n",
            "Epoch 75/100\n",
            "30/30 [==============================] - 0s 125us/sample - loss: 19.5049\n",
            "Epoch 76/100\n",
            "30/30 [==============================] - 0s 93us/sample - loss: 17.7531\n",
            "Epoch 77/100\n",
            "30/30 [==============================] - 0s 90us/sample - loss: 16.1833\n",
            "Epoch 78/100\n",
            "30/30 [==============================] - 0s 78us/sample - loss: 14.8268\n",
            "Epoch 79/100\n",
            "30/30 [==============================] - 0s 97us/sample - loss: 13.6604\n",
            "Epoch 80/100\n",
            "30/30 [==============================] - 0s 79us/sample - loss: 12.6234\n",
            "Epoch 81/100\n",
            "30/30 [==============================] - 0s 90us/sample - loss: 11.6476\n",
            "Epoch 82/100\n",
            "30/30 [==============================] - 0s 80us/sample - loss: 10.6866\n",
            "Epoch 83/100\n",
            "30/30 [==============================] - 0s 100us/sample - loss: 9.7301\n",
            "Epoch 84/100\n",
            "30/30 [==============================] - 0s 102us/sample - loss: 8.8008\n",
            "Epoch 85/100\n",
            "30/30 [==============================] - 0s 100us/sample - loss: 7.9362\n",
            "Epoch 86/100\n",
            "30/30 [==============================] - 0s 86us/sample - loss: 7.1674\n",
            "Epoch 87/100\n",
            "30/30 [==============================] - 0s 166us/sample - loss: 6.5039\n",
            "Epoch 88/100\n",
            "30/30 [==============================] - 0s 77us/sample - loss: 5.9313\n",
            "Epoch 89/100\n",
            "30/30 [==============================] - 0s 243us/sample - loss: 5.4201\n",
            "Epoch 90/100\n",
            "30/30 [==============================] - 0s 69us/sample - loss: 4.9401\n",
            "Epoch 91/100\n",
            "30/30 [==============================] - 0s 82us/sample - loss: 4.4734\n",
            "Epoch 92/100\n",
            "30/30 [==============================] - 0s 92us/sample - loss: 4.0186\n",
            "Epoch 93/100\n",
            "30/30 [==============================] - 0s 69us/sample - loss: 3.5878\n",
            "Epoch 94/100\n",
            "30/30 [==============================] - 0s 87us/sample - loss: 3.1969\n",
            "Epoch 95/100\n",
            "30/30 [==============================] - 0s 158us/sample - loss: 2.8563\n",
            "Epoch 96/100\n",
            "30/30 [==============================] - 0s 97us/sample - loss: 2.5653\n",
            "Epoch 97/100\n",
            "30/30 [==============================] - 0s 104us/sample - loss: 2.3137\n",
            "Epoch 98/100\n",
            "30/30 [==============================] - 0s 78us/sample - loss: 2.0869\n",
            "Epoch 99/100\n",
            "30/30 [==============================] - 0s 56us/sample - loss: 1.8728\n",
            "Epoch 100/100\n",
            "30/30 [==============================] - 0s 73us/sample - loss: 1.6663\n"
          ],
          "name": "stdout"
        }
      ]
    },
    {
      "cell_type": "markdown",
      "metadata": {
        "id": "-wRQqOeB5Zh5"
      },
      "source": [
        "# STEP#5: EVALUATING THE MODEL "
      ]
    },
    {
      "cell_type": "code",
      "metadata": {
        "id": "dfUb63035TJL",
        "colab": {
          "base_uri": "https://localhost:8080/"
        },
        "outputId": "efa7ccc2-5195-412d-a75e-12f3cb2c8c67"
      },
      "source": [
        "epochs_hist.history.keys()"
      ],
      "execution_count": 19,
      "outputs": [
        {
          "output_type": "execute_result",
          "data": {
            "text/plain": [
              "dict_keys(['loss'])"
            ]
          },
          "metadata": {
            "tags": []
          },
          "execution_count": 19
        }
      ]
    },
    {
      "cell_type": "code",
      "metadata": {
        "id": "eXiDop_l5erJ",
        "colab": {
          "base_uri": "https://localhost:8080/",
          "height": 312
        },
        "outputId": "38d206af-0e56-4497-fd73-90383feea76b"
      },
      "source": [
        "plt.plot(epochs_hist.history['loss'])\n",
        "plt.title('Model Loss Progress During Training')\n",
        "plt.xlabel('Epoch')\n",
        "plt.ylabel('Training Loss')\n",
        "plt.legend(['Training Loss'])"
      ],
      "execution_count": 20,
      "outputs": [
        {
          "output_type": "execute_result",
          "data": {
            "text/plain": [
              "<matplotlib.legend.Legend at 0x7f32c007f748>"
            ]
          },
          "metadata": {
            "tags": []
          },
          "execution_count": 20
        },
        {
          "output_type": "display_data",
          "data": {
            "image/png": "[encoded data removed]",
            "text/plain": [
              "<Figure size 432x288 with 1 Axes>"
            ]
          },
          "metadata": {
            "tags": [],
            "needs_background": "light"
          }
        }
      ]
    },
    {
      "cell_type": "code",
      "metadata": {
        "id": "yFYpuUJWBn6L",
        "colab": {
          "base_uri": "https://localhost:8080/"
        },
        "outputId": "5e268fce-545d-4a14-e2ba-707db8c209fe"
      },
      "source": [
        "model.get_weights()"
      ],
      "execution_count": 21,
      "outputs": [
        {
          "output_type": "execute_result",
          "data": {
            "text/plain": [
              "[array([[1.7974122]], dtype=float32), array([30.794168], dtype=float32)]"
            ]
          },
          "metadata": {
            "tags": []
          },
          "execution_count": 21
        }
      ]
    },
    {
      "cell_type": "code",
      "metadata": {
        "id": "isfjfT735fjD",
        "colab": {
          "base_uri": "https://localhost:8080/"
        },
        "outputId": "51938c9d-7e7b-4a72-821f-8a54212dd8c5"
      },
      "source": [
        "# Use the trained model to perform predictions\n",
        "\n",
        "Temp_C = 0\n",
        "Temp_F = model.predict([Temp_C])\n",
        "print('Temperature in degF Using Trained ANN =', Temp_F)\n"
      ],
      "execution_count": 22,
      "outputs": [
        {
          "output_type": "stream",
          "text": [
            "Temperature in degF Using Trained ANN = [[30.794168]]\n"
          ],
          "name": "stdout"
        }
      ]
    },
    {
      "cell_type": "code",
      "metadata": {
        "id": "mfP_j7LaDjNR",
        "colab": {
          "base_uri": "https://localhost:8080/"
        },
        "outputId": "df30ffb6-113d-4ff1-a565-d2fc86bb4ff4"
      },
      "source": [
        "# Let's confirm this Using the equation: \n",
        "Temp_F = 9/5 * Temp_C + 32\n",
        "print('Temperature in degF Using Equation =', Temp_F)\n"
      ],
      "execution_count": 23,
      "outputs": [
        {
          "output_type": "stream",
          "text": [
            "Temperature in degF Using Equation = 32.0\n"
          ],
          "name": "stdout"
        }
      ]
    },
    {
      "cell_type": "markdown",
      "metadata": {
        "id": "9MMJDIaYdMOf"
      },
      "source": [
        "In this project, we knew the weight and bias. We tried to learn the weight and bias using a deep learning model."
      ]
    },
    {
      "cell_type": "code",
      "metadata": {
        "id": "RwVZg2iYFldq"
      },
      "source": [
        ""
      ],
      "execution_count": 23,
      "outputs": []
    }
  ]
}